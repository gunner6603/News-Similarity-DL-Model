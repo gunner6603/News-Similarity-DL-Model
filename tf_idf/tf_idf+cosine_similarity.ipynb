{
 "cells": [
  {
   "cell_type": "code",
   "execution_count": 1,
   "id": "5045d99c",
   "metadata": {},
   "outputs": [],
   "source": [
    "import os\n",
    "import sys\n",
    "sys.path.append(os.path.dirname(os.path.abspath('')))"
   ]
  },
  {
   "cell_type": "code",
   "execution_count": 2,
   "id": "682cdad9",
   "metadata": {},
   "outputs": [],
   "source": [
    "from utils_ import *\n",
    "from gensim import models"
   ]
  },
  {
   "cell_type": "code",
   "execution_count": 3,
   "id": "a3af7dbf",
   "metadata": {},
   "outputs": [],
   "source": [
    "val_data1_path = \"../dataset/newssim-train/news0.jsonl\"\n",
    "val_data2_path = \"../dataset/newssim-train/news1.jsonl\"\n",
    "val_label_path = \"../dataset/newssim-train/label.txt\"\n",
    "test_data1_path =  \"../dataset/newssim-test/news0.jsonl\"\n",
    "test_data2_path =  \"../dataset/newssim-test/news1.jsonl\"\n",
    "test_label_path =  \"../dataset/newssim-test/label.txt\"\n",
    "vocab_path = './vocab.pkl'"
   ]
  },
  {
   "cell_type": "code",
   "execution_count": 4,
   "id": "dc30c4a6",
   "metadata": {},
   "outputs": [],
   "source": [
    "val_json_list1 = make_json_list(val_data1_path)\n",
    "val_json_list2 = make_json_list(val_data2_path)\n",
    "test_json_list1 = make_json_list(test_data1_path)\n",
    "test_json_list2 = make_json_list(test_data2_path)"
   ]
  },
  {
   "cell_type": "code",
   "execution_count": 5,
   "id": "5df9769b",
   "metadata": {},
   "outputs": [],
   "source": [
    "pos_list = ['N', 'V']\n",
    "word_threshold = 50"
   ]
  },
  {
   "cell_type": "code",
   "execution_count": 6,
   "id": "6f1681e1",
   "metadata": {},
   "outputs": [],
   "source": [
    "vocab = make_vocab([val_json_list1, val_json_list2], word_threshold, pos_list, vocab_path)"
   ]
  },
  {
   "cell_type": "code",
   "execution_count": 7,
   "id": "17c352fe",
   "metadata": {},
   "outputs": [],
   "source": [
    "(val_tf1, val_tf2), val_idf, df = get_tf_and_idf(val_json_list1, val_json_list2, vocab)\n",
    "val_tf_idf1 = get_tf_idf(val_tf1, val_idf)\n",
    "val_tf_idf2 = get_tf_idf(val_tf2, val_idf)\n",
    "val_cos_sim = get_cosine_similarity(val_tf_idf1, val_tf_idf2)"
   ]
  },
  {
   "cell_type": "code",
   "execution_count": 8,
   "id": "cf13ed9e",
   "metadata": {},
   "outputs": [],
   "source": [
    "(val_tf1_first, val_tf2_first), _, _ = get_tf_and_idf(val_json_list1, val_json_list2, vocab, 1)\n",
    "val_tf_idf1_first = get_tf_idf(val_tf1_first, val_idf)\n",
    "val_tf_idf2_first = get_tf_idf(val_tf2_first, val_idf)\n",
    "val_cos_sim_first = get_cosine_similarity(val_tf_idf1_first, val_tf_idf2_first)"
   ]
  },
  {
   "cell_type": "code",
   "execution_count": 9,
   "id": "5495b207",
   "metadata": {},
   "outputs": [],
   "source": [
    "(val_tf1_first3, val_tf2_first3), _, _ = get_tf_and_idf(val_json_list1, val_json_list2, vocab, 3)\n",
    "val_tf_idf1_first3 = get_tf_idf(val_tf1_first3, val_idf)\n",
    "val_tf_idf2_first3 = get_tf_idf(val_tf2_first3, val_idf)\n",
    "val_cos_sim_first3 = get_cosine_similarity(val_tf_idf1_first3, val_tf_idf2_first3)"
   ]
  },
  {
   "cell_type": "code",
   "execution_count": 10,
   "id": "084aa7df",
   "metadata": {},
   "outputs": [],
   "source": [
    "val_nnp_tf1, val_nnp_tf2 = get_nnp_tf(val_json_list1, val_json_list2, vocab)\n",
    "val_nnp_tf_idf1 = get_tf_idf(val_nnp_tf1, val_idf)\n",
    "val_nnp_tf_idf2 = get_tf_idf(val_nnp_tf2, val_idf)\n",
    "val_nnp_cos_sim = get_cosine_similarity(val_nnp_tf_idf1, val_nnp_tf_idf2)"
   ]
  },
  {
   "cell_type": "code",
   "execution_count": 11,
   "id": "db9ed40c",
   "metadata": {},
   "outputs": [],
   "source": [
    "word2vec_model = models.Word2Vec.load('../tmp_files/word2vec_256d.model')"
   ]
  },
  {
   "cell_type": "code",
   "execution_count": 12,
   "id": "5c24c350",
   "metadata": {},
   "outputs": [],
   "source": [
    "np.random.seed(33)\n",
    "\n",
    "vocab_vector = np.zeros((len(vocab), 256))\n",
    "\n",
    "for i in range(2, len(vocab)):\n",
    "    vocab_vector[i] = word2vec_model.wv[vocab.idx2word[i]]\n",
    "\n",
    "vocab_vector[1] = 0.01*np.random.randn(256)\n",
    "\n",
    "# vocab_vector = vocab_vector_raw*val_idf.reshape(-1,1)\n",
    "\n",
    "val_doc1 = val_tf1@vocab_vector\n",
    "val_doc2 = val_tf2@vocab_vector\n",
    "val_embed_cos_sim = get_cosine_similarity(val_doc1, val_doc2)"
   ]
  },
  {
   "cell_type": "code",
   "execution_count": 13,
   "id": "e9454a7c",
   "metadata": {},
   "outputs": [
    {
     "name": "stdout",
     "output_type": "stream",
     "text": [
      "accuracy : 0.8153\n",
      "accuracy : 0.7316\n",
      "accuracy : 0.7795\n",
      "accuracy : 0.7725\n",
      "accuracy : 0.7716\n"
     ]
    }
   ],
   "source": [
    "val_labels = get_labels(val_label_path)\n",
    "cs_threshold, _ = get_score_threshold_and_print_accuracy(val_cos_sim, val_labels)\n",
    "cs_threshold_first, _ = get_score_threshold_and_print_accuracy(val_cos_sim_first, val_labels)\n",
    "cs_threshold_first3, _ = get_score_threshold_and_print_accuracy(val_cos_sim_first3, val_labels)\n",
    "nnp_cs_threshold, _ = get_score_threshold_and_print_accuracy(val_nnp_cos_sim, val_labels)\n",
    "embed_cs_threshold, _ = get_score_threshold_and_print_accuracy(val_embed_cos_sim, val_labels)"
   ]
  },
  {
   "cell_type": "code",
   "execution_count": 14,
   "id": "afa22b8f",
   "metadata": {},
   "outputs": [
    {
     "name": "stdout",
     "output_type": "stream",
     "text": [
      "accuracy : 0.8153\n",
      "precision : 0.7722\n",
      "recall : 0.7913\n",
      "F1 score : 0.7816\n",
      "TP : 9130  FN : 2408\n",
      "FP : 2694  TN : 13395\n"
     ]
    }
   ],
   "source": [
    "print_test_statistics(val_cos_sim > cs_threshold, val_labels)"
   ]
  },
  {
   "cell_type": "code",
   "execution_count": 15,
   "id": "ce65fdc0",
   "metadata": {},
   "outputs": [],
   "source": [
    "# test phase"
   ]
  },
  {
   "cell_type": "code",
   "execution_count": 16,
   "id": "9b64683d",
   "metadata": {},
   "outputs": [],
   "source": [
    "(test_tf1, test_tf2), _, _ = get_tf_and_idf(test_json_list1, test_json_list2, vocab)\n",
    "test_tf_idf1 = get_tf_idf(test_tf1, val_idf)\n",
    "test_tf_idf2 = get_tf_idf(test_tf2, val_idf)\n",
    "test_cos_sim = get_cosine_similarity(test_tf_idf1, test_tf_idf2)"
   ]
  },
  {
   "cell_type": "code",
   "execution_count": 17,
   "id": "c76463a5",
   "metadata": {},
   "outputs": [],
   "source": [
    "(test_tf1_first, test_tf2_first), _, _ = get_tf_and_idf(test_json_list1, test_json_list2, vocab, 1)\n",
    "test_tf_idf1_first = get_tf_idf(test_tf1_first, val_idf)\n",
    "test_tf_idf2_first = get_tf_idf(test_tf2_first, val_idf)\n",
    "test_cos_sim_first = get_cosine_similarity(test_tf_idf1_first, test_tf_idf2_first)"
   ]
  },
  {
   "cell_type": "code",
   "execution_count": 18,
   "id": "5d8b499e",
   "metadata": {},
   "outputs": [],
   "source": [
    "(test_tf1_first3, test_tf2_first3), _, _ = get_tf_and_idf(test_json_list1, test_json_list2, vocab, 3)\n",
    "test_tf_idf1_first3 = get_tf_idf(test_tf1_first3, val_idf)\n",
    "test_tf_idf2_first3 = get_tf_idf(test_tf2_first3, val_idf)\n",
    "test_cos_sim_first3 = get_cosine_similarity(test_tf_idf1_first3, test_tf_idf2_first3)"
   ]
  },
  {
   "cell_type": "code",
   "execution_count": 19,
   "id": "32a9fe77",
   "metadata": {},
   "outputs": [],
   "source": [
    "test_nnp_tf1, test_nnp_tf2 = get_nnp_tf(test_json_list1, test_json_list2, vocab)\n",
    "test_nnp_tf_idf1 = get_tf_idf(test_nnp_tf1, val_idf)\n",
    "test_nnp_tf_idf2 = get_tf_idf(test_nnp_tf2, val_idf)\n",
    "test_nnp_cos_sim = get_cosine_similarity(test_nnp_tf_idf1, test_nnp_tf_idf2)"
   ]
  },
  {
   "cell_type": "code",
   "execution_count": 20,
   "id": "fd8f14b1",
   "metadata": {},
   "outputs": [],
   "source": [
    "test_doc1 = test_tf1@vocab_vector\n",
    "test_doc2 = test_tf2@vocab_vector\n",
    "test_embed_cos_sim = get_cosine_similarity(test_doc1, test_doc2)"
   ]
  },
  {
   "cell_type": "code",
   "execution_count": 21,
   "id": "f2a20ad3",
   "metadata": {},
   "outputs": [],
   "source": [
    "test_labels = get_labels(test_label_path)"
   ]
  },
  {
   "cell_type": "code",
   "execution_count": 22,
   "id": "bd51a1a6",
   "metadata": {},
   "outputs": [
    {
     "name": "stdout",
     "output_type": "stream",
     "text": [
      "accuracy : 0.8125\n",
      "precision : 0.7623\n",
      "recall : 0.7455\n",
      "F1 score : 0.7538\n",
      "TP :  574  FN :  196\n",
      "FP :  179  TN : 1051\n"
     ]
    }
   ],
   "source": [
    "print_test_statistics(test_cos_sim > cs_threshold, test_labels)"
   ]
  },
  {
   "cell_type": "code",
   "execution_count": 23,
   "id": "5e18d446",
   "metadata": {},
   "outputs": [
    {
     "name": "stdout",
     "output_type": "stream",
     "text": [
      "accuracy : 0.7445\n",
      "precision : 0.8417\n",
      "recall : 0.4143\n",
      "F1 score : 0.5553\n",
      "TP :  319  FN :  451\n",
      "FP :   60  TN : 1170\n"
     ]
    }
   ],
   "source": [
    "print_test_statistics(test_cos_sim_first > cs_threshold_first, test_labels)"
   ]
  },
  {
   "cell_type": "code",
   "execution_count": 24,
   "id": "214b3f6f",
   "metadata": {},
   "outputs": [
    {
     "name": "stdout",
     "output_type": "stream",
     "text": [
      "accuracy : 0.7980\n",
      "precision : 0.8000\n",
      "recall : 0.6338\n",
      "F1 score : 0.7072\n",
      "TP :  488  FN :  282\n",
      "FP :  122  TN : 1108\n"
     ]
    }
   ],
   "source": [
    "print_test_statistics(test_cos_sim_first3 > cs_threshold_first3, test_labels)"
   ]
  },
  {
   "cell_type": "code",
   "execution_count": 25,
   "id": "ea2ca138",
   "metadata": {},
   "outputs": [
    {
     "name": "stdout",
     "output_type": "stream",
     "text": [
      "accuracy : 0.7425\n",
      "precision : 0.6641\n",
      "recall : 0.6701\n",
      "F1 score : 0.6671\n",
      "TP :  516  FN :  254\n",
      "FP :  261  TN :  969\n"
     ]
    }
   ],
   "source": [
    "print_test_statistics(test_nnp_cos_sim > nnp_cs_threshold, test_labels)"
   ]
  },
  {
   "cell_type": "code",
   "execution_count": 26,
   "id": "f1501391",
   "metadata": {},
   "outputs": [
    {
     "name": "stdout",
     "output_type": "stream",
     "text": [
      "accuracy : 0.7765\n",
      "precision : 0.6916\n",
      "recall : 0.7571\n",
      "F1 score : 0.7229\n",
      "TP :  583  FN :  187\n",
      "FP :  260  TN :  970\n"
     ]
    }
   ],
   "source": [
    "print_test_statistics(test_embed_cos_sim > embed_cs_threshold, test_labels)"
   ]
  }
 ],
 "metadata": {
  "kernelspec": {
   "display_name": "Python 3 (ipykernel)",
   "language": "python",
   "name": "python3"
  },
  "language_info": {
   "codemirror_mode": {
    "name": "ipython",
    "version": 3
   },
   "file_extension": ".py",
   "mimetype": "text/x-python",
   "name": "python",
   "nbconvert_exporter": "python",
   "pygments_lexer": "ipython3",
   "version": "3.9.7"
  }
 },
 "nbformat": 4,
 "nbformat_minor": 5
}
